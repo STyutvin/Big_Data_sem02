{
  "cells": [
    {
      "cell_type": "code",
      "execution_count": 2,
      "metadata": {
        "id": "KJFuAL2Ndrm7"
      },
      "outputs": [],
      "source": [
        "import pandas as pd\n",
        "from functools import reduce"
      ]
    },
    {
      "cell_type": "code",
      "execution_count": 3,
      "metadata": {
        "colab": {
          "base_uri": "https://localhost:8080/",
          "height": 417
        },
        "id": "6dDpLtUveI8W",
        "outputId": "d299e8ac-2d56-4bb4-c9e8-cf3ba01229f7"
      },
      "outputs": [
        {
          "data": {
            "text/html": [
              "<div>\n",
              "<style scoped>\n",
              "    .dataframe tbody tr th:only-of-type {\n",
              "        vertical-align: middle;\n",
              "    }\n",
              "\n",
              "    .dataframe tbody tr th {\n",
              "        vertical-align: top;\n",
              "    }\n",
              "\n",
              "    .dataframe thead th {\n",
              "        text-align: right;\n",
              "    }\n",
              "</style>\n",
              "<table border=\"1\" class=\"dataframe\">\n",
              "  <thead>\n",
              "    <tr style=\"text-align: right;\">\n",
              "      <th></th>\n",
              "      <th>id</th>\n",
              "      <th>name</th>\n",
              "      <th>host_id</th>\n",
              "      <th>host_name</th>\n",
              "      <th>neighbourhood_group</th>\n",
              "      <th>neighbourhood</th>\n",
              "      <th>latitude</th>\n",
              "      <th>longitude</th>\n",
              "      <th>room_type</th>\n",
              "      <th>price</th>\n",
              "      <th>minimum_nights</th>\n",
              "      <th>number_of_reviews</th>\n",
              "      <th>last_review</th>\n",
              "      <th>reviews_per_month</th>\n",
              "      <th>calculated_host_listings_count</th>\n",
              "      <th>availability_365</th>\n",
              "    </tr>\n",
              "  </thead>\n",
              "  <tbody>\n",
              "    <tr>\n",
              "      <th>0</th>\n",
              "      <td>2539</td>\n",
              "      <td>Clean &amp; quiet apt home by the park</td>\n",
              "      <td>2787</td>\n",
              "      <td>John</td>\n",
              "      <td>Brooklyn</td>\n",
              "      <td>Kensington</td>\n",
              "      <td>40.64749</td>\n",
              "      <td>-73.97237</td>\n",
              "      <td>Private room</td>\n",
              "      <td>149</td>\n",
              "      <td>1</td>\n",
              "      <td>9</td>\n",
              "      <td>2018-10-19</td>\n",
              "      <td>0.21</td>\n",
              "      <td>6</td>\n",
              "      <td>365</td>\n",
              "    </tr>\n",
              "    <tr>\n",
              "      <th>1</th>\n",
              "      <td>2595</td>\n",
              "      <td>Skylit Midtown Castle</td>\n",
              "      <td>2845</td>\n",
              "      <td>Jennifer</td>\n",
              "      <td>Manhattan</td>\n",
              "      <td>Midtown</td>\n",
              "      <td>40.75362</td>\n",
              "      <td>-73.98377</td>\n",
              "      <td>Entire home/apt</td>\n",
              "      <td>225</td>\n",
              "      <td>1</td>\n",
              "      <td>45</td>\n",
              "      <td>2019-05-21</td>\n",
              "      <td>0.38</td>\n",
              "      <td>2</td>\n",
              "      <td>355</td>\n",
              "    </tr>\n",
              "    <tr>\n",
              "      <th>2</th>\n",
              "      <td>3647</td>\n",
              "      <td>THE VILLAGE OF HARLEM....NEW YORK !</td>\n",
              "      <td>4632</td>\n",
              "      <td>Elisabeth</td>\n",
              "      <td>Manhattan</td>\n",
              "      <td>Harlem</td>\n",
              "      <td>40.80902</td>\n",
              "      <td>-73.94190</td>\n",
              "      <td>Private room</td>\n",
              "      <td>150</td>\n",
              "      <td>3</td>\n",
              "      <td>0</td>\n",
              "      <td>NaN</td>\n",
              "      <td>NaN</td>\n",
              "      <td>1</td>\n",
              "      <td>365</td>\n",
              "    </tr>\n",
              "    <tr>\n",
              "      <th>3</th>\n",
              "      <td>3831</td>\n",
              "      <td>Cozy Entire Floor of Brownstone</td>\n",
              "      <td>4869</td>\n",
              "      <td>LisaRoxanne</td>\n",
              "      <td>Brooklyn</td>\n",
              "      <td>Clinton Hill</td>\n",
              "      <td>40.68514</td>\n",
              "      <td>-73.95976</td>\n",
              "      <td>Entire home/apt</td>\n",
              "      <td>89</td>\n",
              "      <td>1</td>\n",
              "      <td>270</td>\n",
              "      <td>2019-07-05</td>\n",
              "      <td>4.64</td>\n",
              "      <td>1</td>\n",
              "      <td>194</td>\n",
              "    </tr>\n",
              "    <tr>\n",
              "      <th>4</th>\n",
              "      <td>5022</td>\n",
              "      <td>Entire Apt: Spacious Studio/Loft by central park</td>\n",
              "      <td>7192</td>\n",
              "      <td>Laura</td>\n",
              "      <td>Manhattan</td>\n",
              "      <td>East Harlem</td>\n",
              "      <td>40.79851</td>\n",
              "      <td>-73.94399</td>\n",
              "      <td>Entire home/apt</td>\n",
              "      <td>80</td>\n",
              "      <td>10</td>\n",
              "      <td>9</td>\n",
              "      <td>2018-11-19</td>\n",
              "      <td>0.10</td>\n",
              "      <td>1</td>\n",
              "      <td>0</td>\n",
              "    </tr>\n",
              "  </tbody>\n",
              "</table>\n",
              "</div>"
            ],
            "text/plain": [
              "     id                                              name  host_id  \\\n",
              "0  2539                Clean & quiet apt home by the park     2787   \n",
              "1  2595                             Skylit Midtown Castle     2845   \n",
              "2  3647               THE VILLAGE OF HARLEM....NEW YORK !     4632   \n",
              "3  3831                   Cozy Entire Floor of Brownstone     4869   \n",
              "4  5022  Entire Apt: Spacious Studio/Loft by central park     7192   \n",
              "\n",
              "     host_name neighbourhood_group neighbourhood  latitude  longitude  \\\n",
              "0         John            Brooklyn    Kensington  40.64749  -73.97237   \n",
              "1     Jennifer           Manhattan       Midtown  40.75362  -73.98377   \n",
              "2    Elisabeth           Manhattan        Harlem  40.80902  -73.94190   \n",
              "3  LisaRoxanne            Brooklyn  Clinton Hill  40.68514  -73.95976   \n",
              "4        Laura           Manhattan   East Harlem  40.79851  -73.94399   \n",
              "\n",
              "         room_type  price  minimum_nights  number_of_reviews last_review  \\\n",
              "0     Private room    149               1                  9  2018-10-19   \n",
              "1  Entire home/apt    225               1                 45  2019-05-21   \n",
              "2     Private room    150               3                  0         NaN   \n",
              "3  Entire home/apt     89               1                270  2019-07-05   \n",
              "4  Entire home/apt     80              10                  9  2018-11-19   \n",
              "\n",
              "   reviews_per_month  calculated_host_listings_count  availability_365  \n",
              "0               0.21                               6               365  \n",
              "1               0.38                               2               355  \n",
              "2                NaN                               1               365  \n",
              "3               4.64                               1               194  \n",
              "4               0.10                               1                 0  "
            ]
          },
          "execution_count": 3,
          "metadata": {},
          "output_type": "execute_result"
        }
      ],
      "source": [
        "df = pd.read_csv('D:\\Geek_Brains\\Big Data\\Семинар 02\\HW\\AB_NYC_2019.csv')\n",
        "df.head()"
      ]
    },
    {
      "cell_type": "code",
      "execution_count": 4,
      "metadata": {
        "colab": {
          "base_uri": "https://localhost:8080/"
        },
        "id": "9mdiUNSdey68",
        "outputId": "c043c15b-feb2-4be4-bbc9-de4201b8abcc"
      },
      "outputs": [
        {
          "name": "stdout",
          "output_type": "stream",
          "text": [
            "<class 'pandas.core.frame.DataFrame'>\n",
            "RangeIndex: 48895 entries, 0 to 48894\n",
            "Data columns (total 16 columns):\n",
            " #   Column                          Non-Null Count  Dtype  \n",
            "---  ------                          --------------  -----  \n",
            " 0   id                              48895 non-null  int64  \n",
            " 1   name                            48879 non-null  object \n",
            " 2   host_id                         48895 non-null  int64  \n",
            " 3   host_name                       48874 non-null  object \n",
            " 4   neighbourhood_group             48895 non-null  object \n",
            " 5   neighbourhood                   48895 non-null  object \n",
            " 6   latitude                        48895 non-null  float64\n",
            " 7   longitude                       48895 non-null  float64\n",
            " 8   room_type                       48895 non-null  object \n",
            " 9   price                           48895 non-null  int64  \n",
            " 10  minimum_nights                  48895 non-null  int64  \n",
            " 11  number_of_reviews               48895 non-null  int64  \n",
            " 12  last_review                     38843 non-null  object \n",
            " 13  reviews_per_month               38843 non-null  float64\n",
            " 14  calculated_host_listings_count  48895 non-null  int64  \n",
            " 15  availability_365                48895 non-null  int64  \n",
            "dtypes: float64(3), int64(7), object(6)\n",
            "memory usage: 6.0+ MB\n"
          ]
        }
      ],
      "source": [
        "df.info()"
      ]
    },
    {
      "cell_type": "markdown",
      "metadata": {
        "id": "vUj2KufzGQUE"
      },
      "source": [
        "Нам нужно отработать алгоритм MapReduce, подходящий для работы с большими объемами данных. Несмотря на то, что наш датасет относительно небольшой и его можно загрузить целиком в оперативную память, мы демонстрируем этот подход, загружая данные по частям (чанкам) по 10 000 строк. Это позволяет эффективно обрабатывать даже большие датасеты, которые не умещаются в памяти целиком."
      ]
    },
    {
      "cell_type": "markdown",
      "metadata": {},
      "source": [
        "Mapper:\n",
        "\n",
        "Для каждого чанка данных функция Mapper вычисляет три ключевых значения: сумму цен всех наблюдений в чанке, количество этих наблюдений, а также сумму квадратов цен.\n",
        "Эти вычисленные значения служат основой для последующего расчета глобального среднего значения и дисперсии."
      ]
    },
    {
      "cell_type": "code",
      "execution_count": 5,
      "metadata": {
        "id": "q-eFJRxVC7vt"
      },
      "outputs": [],
      "source": [
        "# Mapper function\n",
        "def mapper(chunk):\n",
        "    # Вычисляем сумму, количество и сумму квадратов цен в каждом чанке\n",
        "    sum_prices = chunk['price'].sum()\n",
        "    count = chunk['price'].count()\n",
        "    sum_of_squares = (chunk['price'] ** 2).sum()\n",
        "    return sum_prices, count, sum_of_squares"
      ]
    },
    {
      "cell_type": "markdown",
      "metadata": {},
      "source": [
        "Reducer:\n",
        "\n",
        "Функция Reducer принимает результаты, полученные от всех чанков данных, и объединяет их для вычисления общего среднего значения и дисперсии цен по всему датасету.\n",
        "\n",
        "Этот метод демонстрирует, как можно эффективно обрабатывать большие объемы данных, разбивая их на меньшие части и последовательно обрабатывая каждую из них, что особенно полезно при ограниченных ресурсах памяти."
      ]
    },
    {
      "cell_type": "code",
      "execution_count": 6,
      "metadata": {
        "id": "3AIYsBxhDJOu"
      },
      "outputs": [],
      "source": [
        "def reducer(accumulator, element):\n",
        "    sum_prices_acc, count_acc, sum_of_squares_acc = accumulator\n",
        "    sum_prices_elem, count_elem, sum_of_squares_elem = element\n",
        "\n",
        "    # Суммируем результаты\n",
        "    total_sum_prices = sum_prices_acc + sum_prices_elem\n",
        "    total_count = count_acc + count_elem\n",
        "    total_sum_of_squares = sum_of_squares_acc + sum_of_squares_elem\n",
        "\n",
        "    return total_sum_prices, total_count, total_sum_of_squares\n"
      ]
    },
    {
      "cell_type": "code",
      "execution_count": 7,
      "metadata": {
        "id": "nXyKd6osDkQc"
      },
      "outputs": [],
      "source": [
        "file_path = 'D:\\Geek_Brains\\Big Data\\Семинар 02\\HW\\AB_NYC_2019.csv'"
      ]
    },
    {
      "cell_type": "code",
      "execution_count": 8,
      "metadata": {
        "colab": {
          "base_uri": "https://localhost:8080/"
        },
        "id": "iSYay4xjDMsL",
        "outputId": "09cc40b4-1200-47b9-abe7-2e58f73e1e34"
      },
      "outputs": [
        {
          "data": {
            "text/plain": [
              "(152.7206871868289, 57674.50227089633, 240.15516290701794)"
            ]
          },
          "execution_count": 8,
          "metadata": {},
          "output_type": "execute_result"
        }
      ],
      "source": [
        "# Создание итератора для чанков данных\n",
        "chunk_iter = pd.read_csv(file_path, chunksize=10000)\n",
        "\n",
        "# Применение функции map\n",
        "mapped_values = map(mapper, chunk_iter)\n",
        "\n",
        "# Применение функции reduce\n",
        "total_sum, total_count, total_sum_of_squares = reduce(reducer, mapped_values)\n",
        "\n",
        "# Расчет среднего значения и дисперсии\n",
        "mean = total_sum / total_count\n",
        "variance = (total_sum_of_squares / (total_count-1)) - mean ** 2\n",
        "standard_deviation = variance ** 0.5\n",
        "mean, variance, standard_deviation"
      ]
    },
    {
      "cell_type": "markdown",
      "metadata": {},
      "source": [
        "Поскольку размер файла небольшой, то полученные результаты можно проверить с помощью встроенных функций."
      ]
    },
    {
      "cell_type": "code",
      "execution_count": 9,
      "metadata": {},
      "outputs": [
        {
          "name": "stdout",
          "output_type": "stream",
          "text": [
            "Вычисление среднего значения по встроенной формуле: \n",
            "152.7206871868289\n",
            "Вычисление среднего значения вручную: \n",
            "152.7206871868289\n",
            "\n",
            "Вычисление дисперсии по встроенной формуле: \n",
            "57674.02524696099\n",
            "Вычисление дисперсии вручную: \n",
            "57674.50227089633\n"
          ]
        }
      ],
      "source": [
        "# Вычисление среднего значения по столбцу price\n",
        "print(f'Вычисление среднего значения по встроенной формуле: \\n{df[\"price\"].mean()}')\n",
        "print(f'Вычисление среднего значения вручную: \\n{mean}')\n",
        "print()\n",
        "# Вычисление дисперсии по столбцу price\n",
        "print(f'Вычисление дисперсии по встроенной формуле: \\n{df[\"price\"].var()}')\n",
        "print(f'Вычисление дисперсии вручную: \\n{variance}')"
      ]
    },
    {
      "cell_type": "markdown",
      "metadata": {},
      "source": [
        "Если для среднего значения результаты совпали до знака, то дисперсии различаются. Поскольку дисперсия вычислялась применительно к выборки, то, на всякий случай, сравним результаты вычислений дисперсии для генеральной совокупности."
      ]
    },
    {
      "cell_type": "code",
      "execution_count": 10,
      "metadata": {},
      "outputs": [
        {
          "name": "stdout",
          "output_type": "stream",
          "text": [
            "Вычисление дисп.г вручную: \n",
            "57672.8456984336\n",
            "Вычисление дисп.г по встроенной формуле: \n",
            "57672.84569843359\n"
          ]
        }
      ],
      "source": [
        "variance_population = (total_sum_of_squares / (total_count)) - mean ** 2\n",
        "print(f'Вычисление дисп.г вручную: \\n{variance_population}')\n",
        "print(f'Вычисление дисп.г по встроенной формуле: \\n{df[\"price\"].var(ddof=0)}')"
      ]
    },
    {
      "cell_type": "markdown",
      "metadata": {},
      "source": [
        "Точность вычислений совпала до девятого знака после запятой. Поэтому я считаю, что разница в результатах дисперсии для выборки обуславливается классом float. Так как для хранения таких чисел используется особый формат представления числа: мантисса и порядок, что приводит к погрешностям во время вычислений."
      ]
    },
    {
      "cell_type": "code",
      "execution_count": 13,
      "metadata": {},
      "outputs": [
        {
          "name": "stdout",
          "output_type": "stream",
          "text": [
            "Тип данных для дисп.г <class 'numpy.float64'>\n",
            "Тип данных для дисп.в <class 'numpy.float64'>\n"
          ]
        }
      ],
      "source": [
        "print(f'Тип данных для дисп.г {type(variance_population)}')\n",
        "print(f'Тип данных для дисп.в {type(variance)}')\n"
      ]
    },
    {
      "cell_type": "markdown",
      "metadata": {},
      "source": [
        "Для точных вычислений следует применять модуль decimal, как на примере ниже."
      ]
    },
    {
      "cell_type": "code",
      "execution_count": 14,
      "metadata": {},
      "outputs": [
        {
          "name": "stdout",
          "output_type": "stream",
          "text": [
            "0.30000000000000004\n",
            "0.3\n"
          ]
        }
      ],
      "source": [
        "from decimal import Decimal\n",
        "print(0.1 + 0.2)\n",
        "print(Decimal('0.1') + Decimal('0.2'))"
      ]
    },
    {
      "cell_type": "markdown",
      "metadata": {},
      "source": [
        "Хотя, насколько я помню из лекций, модуль decimal в основном применяется при написании кода для банковских систем, и для нашего примера такая точность не нужнна."
      ]
    }
  ],
  "metadata": {
    "colab": {
      "provenance": []
    },
    "kernelspec": {
      "display_name": "Python 3",
      "name": "python3"
    },
    "language_info": {
      "codemirror_mode": {
        "name": "ipython",
        "version": 3
      },
      "file_extension": ".py",
      "mimetype": "text/x-python",
      "name": "python",
      "nbconvert_exporter": "python",
      "pygments_lexer": "ipython3",
      "version": "3.10.11"
    }
  },
  "nbformat": 4,
  "nbformat_minor": 0
}
